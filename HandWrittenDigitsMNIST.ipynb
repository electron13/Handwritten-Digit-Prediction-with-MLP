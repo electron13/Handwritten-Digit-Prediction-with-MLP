{
  "nbformat": 4,
  "nbformat_minor": 0,
  "metadata": {
    "colab": {
      "provenance": []
    },
    "kernelspec": {
      "name": "python3",
      "display_name": "Python 3"
    },
    "language_info": {
      "name": "python"
    }
  },
  "cells": [
    {
      "cell_type": "code",
      "execution_count": null,
      "metadata": {
        "id": "PgeJd3zuS32B"
      },
      "outputs": [],
      "source": [
        "import torch\n",
        "import numpy as np\n",
        "import torch.nn as nn\n",
        "import pandas as pd\n",
        "from sklearn.model_selection import train_test_split\n",
        "import random\n",
        "\n",
        "device = torch.device(\"cuda:0\" if torch.cuda.is_available() else \"cpu\")\n",
        "data = pd.read_csv('/content/train (1).csv')\n",
        "data = data.to_numpy()\n",
        "x = data[:,1:]\n",
        "x = torch.from_numpy(x)\n",
        "x = x/255\n",
        "\n",
        "y_data = data[:,0]\n",
        "y = torch.zeros(42000,10)\n",
        "for n in range(42000):\n",
        "  if y_data[n] == 9:\n",
        "    y[n,9] += 1\n",
        "  elif y_data[n] == 8:\n",
        "    y[n,8] += 1\n",
        "  elif y_data[n] == 7:\n",
        "    y[n,7] += 1\n",
        "  elif y_data[n] == 6:\n",
        "    y[n,6] += 1\n",
        "  elif y_data[n] == 5:\n",
        "    y[n,5] += 1\n",
        "  elif y_data[n] == 4:\n",
        "    y[n,4] += 1\n",
        "  elif y_data[n] == 3:\n",
        "    y[n,3] += 1\n",
        "  elif y_data[n] == 2:\n",
        "    y[n,2] += 1\n",
        "  elif y_data[n] == 1:\n",
        "    y[n,1] += 1\n",
        "  elif y_data[n] == 0:\n",
        "    y[n,1] += 1\n",
        "\n",
        "#print(x)\n",
        "#print(y) \n",
        "#print(x.shape)\n",
        "x_train,x_test,y_train,y_test = train_test_split(x,y,test_size=0.2,random_state=4321)\n",
        "\n",
        "class NeuralNetwork(nn.Module):\n",
        "  def __init__(self,n_input,n_hidden_1,n_hidden_2,n_output):\n",
        "    super(NeuralNetwork,self).__init__()\n",
        "    self.l1 = nn.Linear(n_input,n_hidden_1)\n",
        "    self.softmax = nn.Softmax()\n",
        "    self.l2 = nn.Linear(n_hidden_1,n_hidden_2)\n",
        "    self.l3 = nn.Linear(n_hidden_2,n_output)\n",
        "\n",
        "  def forward(self,x):\n",
        "    out = self.l1(x)\n",
        "    out = self.softmax(out)\n",
        "    out = self.l2(out)\n",
        "    out = self.softmax(out)\n",
        "    out = self.l3(out)\n",
        "    out = self.softmax(out)\n",
        "    return out\n",
        "\n",
        "input_features = 784\n",
        "hidden_feature_1 = 64\n",
        "hidden_feature_2 = 64\n",
        "output_features = 10\n",
        "model = NeuralNetwork(input_features,hidden_feature_1,hidden_feature_2,output_features)\n",
        "criterion = nn.CrossEntropyLoss()\n",
        "learning_rate = 0.05\n",
        "optimiser = torch.optim.Adam(model.parameters(),lr=learning_rate)\n",
        "iterations = 500\n",
        "\n",
        "for epoch in range(iterations):\n",
        "  y_predicted = model(x_train)\n",
        "  loss = criterion(y_predicted,y_train)\n",
        "  loss.backward()\n",
        "  optimiser.step()\n",
        "  print('epoch: ', epoch)\n",
        "  if epoch == iterations:\n",
        "    print('Training Complete')\n",
        "\n"
      ]
    },
    {
      "cell_type": "code",
      "source": [
        "def test(x_test,y_test):\n",
        "  rand = int(input('test set no. :'))\n",
        "  print(y_test[rand])\n",
        "  print(model(x_test[rand]))\n",
        "test(x_test, y_test)"
      ],
      "metadata": {
        "id": "0ENkiPCJ497W"
      },
      "execution_count": null,
      "outputs": []
    }
  ]
}